{
 "cells": [
  {
   "cell_type": "code",
   "execution_count": 11,
   "metadata": {
    "collapsed": true
   },
   "outputs": [],
   "source": [
    "import pandas as pd\n",
    "import numpy as np\n",
    "from geopy.geocoders import Nominatim\n",
    "from geopy.exc import GeocoderTimedOut\n",
    "from geopy.exc import GeocoderServiceError\n",
    "import timeit\n",
    "from time import sleep"
   ]
  },
  {
   "cell_type": "code",
   "execution_count": 3,
   "metadata": {
    "collapsed": false
   },
   "outputs": [
    {
     "data": {
      "text/plain": [
       "(36873, 21)"
      ]
     },
     "execution_count": 3,
     "metadata": {},
     "output_type": "execute_result"
    }
   ],
   "source": [
    "crimes = pd.read_csv('../data/cleaned_crime_data.csv')\n",
    "crimes.shape"
   ]
  },
  {
   "cell_type": "code",
   "execution_count": 4,
   "metadata": {
    "collapsed": false
   },
   "outputs": [
    {
     "data": {
      "text/plain": [
       "(36850, 21)"
      ]
     },
     "execution_count": 4,
     "metadata": {},
     "output_type": "execute_result"
    }
   ],
   "source": [
    "crimes = crimes[crimes.latitude != 0]\n",
    "crimes = crimes[crimes.longitude != 0]\n",
    "crimes = crimes[np.isfinite(crimes['longitude'])]\n",
    "crimes.shape"
   ]
  },
  {
   "cell_type": "code",
   "execution_count": 5,
   "metadata": {
    "collapsed": false
   },
   "outputs": [
    {
     "data": {
      "text/plain": [
       "(11044, 21)"
      ]
     },
     "execution_count": 5,
     "metadata": {},
     "output_type": "execute_result"
    }
   ],
   "source": [
    "df = crimes.loc[crimes['zip'] == 'null']\n",
    "df.shape"
   ]
  },
  {
   "cell_type": "code",
   "execution_count": 9,
   "metadata": {
    "collapsed": false
   },
   "outputs": [
    {
     "name": "stdout",
     "output_type": "stream",
     "text": [
      "            zip    zip\n",
      "0          null  11044\n",
      "1         98178   2585\n",
      "2         98058   2418\n",
      "3         98146   2294\n",
      "4         98001   2048\n",
      "5         98092   1271\n",
      "6         98042   1141\n",
      "7         98059   1026\n",
      "8         98022    999\n",
      "9         98106    995\n",
      "10        98168    989\n",
      "11        98038    931\n",
      "12        98070    899\n",
      "13        98027    794\n",
      "14        98053    773\n",
      "15        98077    730\n",
      "16        98045    677\n",
      "17        98072    506\n",
      "18        98029    489\n",
      "19        98003    439\n",
      "20        98024    374\n",
      "21        98014    325\n",
      "22        98011    315\n",
      "23        98052    307\n",
      "24        98065    291\n",
      "25        98051    291\n",
      "26        98108    260\n",
      "27        98126    242\n",
      "28        98019    210\n",
      "29        98032    170\n",
      "30        98034    131\n",
      "31        98006     93\n",
      "32        98288     77\n",
      "33        98010     70\n",
      "34        98056     66\n",
      "35        98166     49\n",
      "36        98075     33\n",
      "37        98030     30\n",
      "38        98002     28\n",
      "39        98057     23\n",
      "40         6210     22\n",
      "41        98125     22\n",
      "42        98031     20\n",
      "43        98068     19\n",
      "44        98251     19\n",
      "45        98023     18\n",
      "46        98033     18\n",
      "47        98074     18\n",
      "48         6152     16\n",
      "49        98104     13\n",
      "50        98055     13\n",
      "51        98101     11\n",
      "52        98122     11\n",
      "53        98115      9\n",
      "54        98028      9\n",
      "55        98012      9\n",
      "56        98050      8\n",
      "57        98224      8\n",
      "58        98117      8\n",
      "59   98116-4236      8\n",
      "60        98148      7\n",
      "61        98177      7\n",
      "62        98118      7\n",
      "63        98290      6\n",
      "64        98144      5\n",
      "65        98367      5\n",
      "66        98188      4\n",
      "67        98576      4\n",
      "68        98826      4\n",
      "69        98382      4\n",
      "70        99208      4\n",
      "71        98105      4\n",
      "72        98506      3\n",
      "73        98354      3\n",
      "74        98198      3\n",
      "75        98296      3\n",
      "76        98155      3\n",
      "77        98391      3\n",
      "78        98607      3\n",
      "79        99361      3\n",
      "80        98840      3\n",
      "81        98112      2\n",
      "82        98272      2\n",
      "83        98199      2\n",
      "84        98195      2\n",
      "85        98008      2\n",
      "86        98004      2\n",
      "87        98109      2\n",
      "88        98021      2\n",
      "89        98926      2\n",
      "90        98363      1\n",
      "91        98007      1\n",
      "92        99321      1\n",
      "93   98104-2534      1\n",
      "94        98422      1\n",
      "95   98101-1126      1\n",
      "96        98116      1\n",
      "97        98802      1\n",
      "98        99362      1\n",
      "99        98037      1\n",
      "100       98444      1\n",
      "101  98001-1581      1\n",
      "102       98121      1\n",
      "103       98502      1\n",
      "104       99117      1\n",
      "105       98366      1\n",
      "106       98223      1\n",
      "107        6327      1\n",
      "108  98101-1749      1\n",
      "109       83704      1\n",
      "110       98499      1\n",
      "111       98257      1\n",
      "112        6069      1\n",
      "113  98126-4148      1\n",
      "114       98102      1\n",
      "115       98133      1\n",
      "116       98338      1\n",
      "117       98026      1\n",
      "118       99114      1\n",
      "119       98284      1\n",
      "120       99336      1\n",
      "121       98271      1\n"
     ]
    }
   ],
   "source": [
    "# showing zipcode problem\n",
    "a = crimes.zip.value_counts().reset_index().rename(columns={'index': 'zip', 0: 'count'})\n",
    "print (a.to_string())"
   ]
  },
  {
   "cell_type": "code",
   "execution_count": 7,
   "metadata": {
    "collapsed": false
   },
   "outputs": [
    {
     "data": {
      "text/plain": [
       "'7910, South 115th Street, Bryn Mawr-Skyway, King County, Washington, 98178, United States of America'"
      ]
     },
     "execution_count": 7,
     "metadata": {},
     "output_type": "execute_result"
    }
   ],
   "source": [
    "#address example\n",
    "geolocator = Nominatim()\n",
    "location = geolocator.reverse(\"47.500626, -122.234039\")\n",
    "x = location.address\n",
    "x"
   ]
  },
  {
   "cell_type": "code",
   "execution_count": 8,
   "metadata": {
    "collapsed": false
   },
   "outputs": [
    {
     "data": {
      "text/plain": [
       "'98178'"
      ]
     },
     "execution_count": 8,
     "metadata": {},
     "output_type": "execute_result"
    }
   ],
   "source": [
    "#Showing example of one instance\n",
    "geolocator = Nominatim()\n",
    "location = geolocator.reverse(\"47.500626, -122.234039\")\n",
    "x = location.address\n",
    "y = x.split('Washington, ')\n",
    "z = y[1].split(', United States of America')\n",
    "zipcode = z[0]\n",
    "zipcode"
   ]
  },
  {
   "cell_type": "code",
   "execution_count": 16,
   "metadata": {
    "collapsed": false
   },
   "outputs": [
    {
     "ename": "IndexError",
     "evalue": "list index out of range",
     "output_type": "error",
     "traceback": [
      "\u001b[0;31m---------------------------------------------------------------------------\u001b[0m",
      "\u001b[0;31mIndexError\u001b[0m                                Traceback (most recent call last)",
      "\u001b[0;32m<ipython-input-16-33f94caa9bc0>\u001b[0m in \u001b[0;36m<module>\u001b[0;34m()\u001b[0m\n\u001b[1;32m     16\u001b[0m             \u001b[0;32mreturn\u001b[0m \u001b[0mgeocode\u001b[0m\u001b[0;34m(\u001b[0m\u001b[0;34m)\u001b[0m\u001b[0;34m\u001b[0m\u001b[0m\n\u001b[1;32m     17\u001b[0m \u001b[0;34m\u001b[0m\u001b[0m\n\u001b[0;32m---> 18\u001b[0;31m \u001b[0mgeocode\u001b[0m\u001b[0;34m(\u001b[0m\u001b[0;34m)\u001b[0m\u001b[0;34m\u001b[0m\u001b[0m\n\u001b[0m\u001b[1;32m     19\u001b[0m \u001b[0mzipcodes\u001b[0m\u001b[0;34m\u001b[0m\u001b[0m\n\u001b[1;32m     20\u001b[0m \u001b[0;34m\u001b[0m\u001b[0m\n",
      "\u001b[0;32m<ipython-input-16-33f94caa9bc0>\u001b[0m in \u001b[0;36mgeocode\u001b[0;34m()\u001b[0m\n\u001b[1;32m      9\u001b[0m             \u001b[0mx\u001b[0m \u001b[0;34m=\u001b[0m \u001b[0mlocation\u001b[0m\u001b[0;34m.\u001b[0m\u001b[0maddress\u001b[0m\u001b[0;34m\u001b[0m\u001b[0m\n\u001b[1;32m     10\u001b[0m             \u001b[0my\u001b[0m \u001b[0;34m=\u001b[0m \u001b[0mx\u001b[0m\u001b[0;34m.\u001b[0m\u001b[0msplit\u001b[0m\u001b[0;34m(\u001b[0m\u001b[0;34m'Washington, '\u001b[0m\u001b[0;34m)\u001b[0m\u001b[0;34m\u001b[0m\u001b[0m\n\u001b[0;32m---> 11\u001b[0;31m             \u001b[0mz\u001b[0m \u001b[0;34m=\u001b[0m \u001b[0my\u001b[0m\u001b[0;34m[\u001b[0m\u001b[0;36m1\u001b[0m\u001b[0;34m]\u001b[0m\u001b[0;34m.\u001b[0m\u001b[0msplit\u001b[0m\u001b[0;34m(\u001b[0m\u001b[0;34m', United States of America'\u001b[0m\u001b[0;34m)\u001b[0m\u001b[0;34m\u001b[0m\u001b[0m\n\u001b[0m\u001b[1;32m     12\u001b[0m             \u001b[0mzipcode\u001b[0m \u001b[0;34m=\u001b[0m \u001b[0mz\u001b[0m\u001b[0;34m[\u001b[0m\u001b[0;36m0\u001b[0m\u001b[0;34m]\u001b[0m\u001b[0;34m\u001b[0m\u001b[0m\n\u001b[1;32m     13\u001b[0m             \u001b[0mzipcodes\u001b[0m\u001b[0;34m.\u001b[0m\u001b[0mappend\u001b[0m\u001b[0;34m(\u001b[0m\u001b[0mzipcode\u001b[0m\u001b[0;34m)\u001b[0m\u001b[0;34m\u001b[0m\u001b[0m\n",
      "\u001b[0;31mIndexError\u001b[0m: list index out of range"
     ]
    }
   ],
   "source": [
    "locations = list(zip(crimes.latitude, crimes.longitude))\n",
    "zipcodes = []\n",
    "geolocator = Nominatim()\n",
    "\n",
    "def geocode():\n",
    "    for item in locations:\n",
    "        try:\n",
    "            location = geolocator.reverse(item, timeout=10)\n",
    "            x = location.address\n",
    "            y = x.split('Washington, ')\n",
    "            z = y[1].split(', United States of America')\n",
    "            zipcode = z[0]\n",
    "            zipcodes.append(zipcode)\n",
    "            sleep(1)\n",
    "        except GeocoderTimedOut:\n",
    "            return geocode()\n",
    "        \n",
    "geocode()\n",
    "zipcodes\n",
    "   "
   ]
  },
  {
   "cell_type": "code",
   "execution_count": null,
   "metadata": {
    "collapsed": true
   },
   "outputs": [],
   "source": [
    "zips = pd.Series(zipcodes)\n",
    "crimes['zipcode'] = zips.values\n",
    "crimes.head()"
   ]
  }
 ],
 "metadata": {
  "anaconda-cloud": {},
  "kernelspec": {
   "display_name": "Python [default]",
   "language": "python",
   "name": "python3"
  },
  "language_info": {
   "codemirror_mode": {
    "name": "ipython",
    "version": 3
   },
   "file_extension": ".py",
   "mimetype": "text/x-python",
   "name": "python",
   "nbconvert_exporter": "python",
   "pygments_lexer": "ipython3",
   "version": "3.5.2"
  }
 },
 "nbformat": 4,
 "nbformat_minor": 1
}
