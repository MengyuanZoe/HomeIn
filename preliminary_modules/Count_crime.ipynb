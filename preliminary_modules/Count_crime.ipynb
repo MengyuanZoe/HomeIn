{
 "cells": [
  {
   "cell_type": "code",
   "execution_count": 1,
   "metadata": {
    "collapsed": false
   },
   "outputs": [
    {
     "name": "stderr",
     "output_type": "stream",
     "text": [
      "/Users/hunting/miniconda3/lib/python3.5/site-packages/IPython/core/interactiveshell.py:2717: DtypeWarning: Columns (1) have mixed types. Specify dtype option on import or set low_memory=False.\n",
      "  interactivity=interactivity, compiler=compiler, result=result)\n"
     ]
    }
   ],
   "source": [
    "import pandas as pd\n",
    "house_data = pd.read_csv('../data/kc_house_data.csv')\n",
    "crime_data = pd.read_csv('../data/King_County_Sheriff_s_Office.csv')"
   ]
  },
  {
   "cell_type": "code",
   "execution_count": 24,
   "metadata": {
    "collapsed": false
   },
   "outputs": [
    {
     "data": {
      "text/plain": [
       "<matplotlib.figure.Figure at 0x114b924a8>"
      ]
     },
     "execution_count": 24,
     "metadata": {},
     "output_type": "execute_result"
    },
    {
     "data": {
      "image/png": "[encoded data removed]",
      "text/plain": [
       "<matplotlib.figure.Figure at 0x111babd68>"
      ]
     },
     "metadata": {},
     "output_type": "display_data"
    },
    {
     "data": {
      "text/plain": [
       "<matplotlib.figure.Figure at 0x114b924a8>"
      ]
     },
     "metadata": {},
     "output_type": "display_data"
    }
   ],
   "source": [
    "import matplotlib.pyplot as plt\n",
    "%matplotlib inline\n",
    "plt.bar(range(len(counted_type)), counted_type.values(), align='center')\n",
    "plt.xticks(range(len(counted_type)), counted_type.keys())\n"
   ]
  },
  {
   "cell_type": "code",
   "execution_count": 30,
   "metadata": {
    "collapsed": false
   },
   "outputs": [
    {
     "data": {
      "text/plain": [
       "([<matplotlib.axis.XTick at 0x1155d65c0>,\n",
       "  <matplotlib.axis.XTick at 0x1155e7240>,\n",
       "  <matplotlib.axis.XTick at 0x1159670b8>,\n",
       "  <matplotlib.axis.XTick at 0x115be4160>,\n",
       "  <matplotlib.axis.XTick at 0x115be4ba8>,\n",
       "  <matplotlib.axis.XTick at 0x115be7630>,\n",
       "  <matplotlib.axis.XTick at 0x115bec0b8>,\n",
       "  <matplotlib.axis.XTick at 0x115becb00>],\n",
       " <a list of 8 Text xticklabel objects>)"
      ]
     },
     "execution_count": 30,
     "metadata": {},
     "output_type": "execute_result"
    },
    {
     "data": {
      "image/png": "[encoded data removed]",
      "text/plain": [
       "<matplotlib.figure.Figure at 0x115731cc0>"
      ]
     },
     "metadata": {},
     "output_type": "display_data"
    }
   ],
   "source": [
    "fig, ax = plt.subplots(figsize=(12,6))\n",
    "ax.bar(range(len(counted_type)), counted_type.values(), align='center')\n",
    "plt.xticks(range(len(counted_type)), counted_type.keys())"
   ]
  },
  {
   "cell_type": "code",
   "execution_count": 2,
   "metadata": {
    "collapsed": true
   },
   "outputs": [],
   "source": [
    "from crime_info import crime_count"
   ]
  },
  {
   "cell_type": "code",
   "execution_count": 3,
   "metadata": {
    "collapsed": true
   },
   "outputs": [],
   "source": [
    "crime_lats = list(crime_data.latitude)\n",
    "crime_lons = list(crime_data.longitude)\n",
    "crime_gps = list(zip(crime_lats,crime_lons))"
   ]
  },
  {
   "cell_type": "code",
   "execution_count": 4,
   "metadata": {
    "collapsed": true
   },
   "outputs": [],
   "source": [
    "crime_type = list(crime_data['incident_type_primary'])"
   ]
  },
  {
   "cell_type": "code",
   "execution_count": 5,
   "metadata": {
    "collapsed": true
   },
   "outputs": [],
   "source": [
    "house_gps = (crime_data.latitude[1561], crime_data.longitude[1561])"
   ]
  },
  {
   "cell_type": "code",
   "execution_count": 6,
   "metadata": {
    "collapsed": true
   },
   "outputs": [],
   "source": [
    "(count_house1561, grouped_data) = crime_count(house_gps, crime_gps, crime_type)"
   ]
  },
  {
   "cell_type": "code",
   "execution_count": 7,
   "metadata": {
    "collapsed": false
   },
   "outputs": [
    {
     "data": {
      "text/plain": [
       "{'Assault': 13,\n",
       " 'BURGLARY, RES., F/E': 2,\n",
       " 'Breaking & Entering': 85,\n",
       " 'Drugs': 1,\n",
       " 'Property Crime': 42,\n",
       " 'Theft': 41,\n",
       " 'Theft from Vehicle': 8,\n",
       " 'Theft of Vehicle': 11}"
      ]
     },
     "execution_count": 7,
     "metadata": {},
     "output_type": "execute_result"
    }
   ],
   "source": [
    "grouped_data"
   ]
  },
  {
   "cell_type": "code",
   "execution_count": 8,
   "metadata": {
    "collapsed": true
   },
   "outputs": [],
   "source": [
    "house_gps2000 = (crime_data.latitude[2000], crime_data.longitude[2000])"
   ]
  },
  {
   "cell_type": "code",
   "execution_count": 9,
   "metadata": {
    "collapsed": true
   },
   "outputs": [],
   "source": [
    "(count_house2000, grouped_data_2) = crime_count(house_gps2000, crime_gps, crime_type)"
   ]
  },
  {
   "cell_type": "code",
   "execution_count": 10,
   "metadata": {
    "collapsed": false
   },
   "outputs": [
    {
     "data": {
      "text/plain": [
       "{'Assault': 24,\n",
       " 'Breaking & Entering': 93,\n",
       " 'Drugs': 21,\n",
       " 'Property Crime': 48,\n",
       " 'Robbery': 4,\n",
       " 'Theft': 63,\n",
       " 'Theft from Vehicle': 35,\n",
       " 'Theft of Vehicle': 15,\n",
       " 'VANDALISM UNDER $1500': 1}"
      ]
     },
     "execution_count": 10,
     "metadata": {},
     "output_type": "execute_result"
    }
   ],
   "source": [
    "grouped_data_2"
   ]
  },
  {
   "cell_type": "code",
   "execution_count": 13,
   "metadata": {
    "collapsed": false
   },
   "outputs": [
    {
     "data": {
      "text/plain": [
       "['Property Crime',\n",
       " 'Theft',\n",
       " 'Breaking & Entering',\n",
       " 'Assault',\n",
       " 'Theft from Vehicle',\n",
       " 'Robbery',\n",
       " 'Drugs',\n",
       " 'Theft of Vehicle',\n",
       " 'BURGLARY, RES., F/E',\n",
       " 'ASSAULT, AGGRAVATED',\n",
       " 'MAIL THEFT',\n",
       " 'LARCENY, TFA',\n",
       " 'LARCENY, NSC',\n",
       " 'IDENTITY THEFT',\n",
       " 'TRESPASS',\n",
       " 'ASSAULT, SIMPLE',\n",
       " 'CONTROLLED SUBSTANCE VIOLATION',\n",
       " 'BURGLARY, RES., ATTEMPT',\n",
       " 'BURGLARY, COMM., F/E',\n",
       " 'LARCENY, S/L',\n",
       " 'BURGLARY, RES., N/F',\n",
       " 'THEFT, OTHER VEHICLE',\n",
       " 'CONTROLLED SUBSTANCE FOR DISPOSAL (I.E. NEEDLES, E',\n",
       " 'ROBBERY, RESIDENCE',\n",
       " 'VANDALISM UNDER $1500',\n",
       " 'ROBBERY, MISC',\n",
       " 'BURGLARY, COMM., ATTEMPT',\n",
       " 'THEFT, AUTO',\n",
       " 'LARCENY, TFB',\n",
       " 'FRAUD, ALL OTHER',\n",
       " 'ILLEGAL DUMPING',\n",
       " 'EMBEZZLEMENT',\n",
       " 'LARCENY, COMD',\n",
       " 'LARCENY, P/P',\n",
       " 'LARCENY, P/S',\n",
       " 'ROBBERY, HIGHWAY',\n",
       " 'FORGERY (DOCUMENTS, COURT PAPERS, ETC)',\n",
       " 'LARCENY, BIKE',\n",
       " 'FORGERY CHECKS',\n",
       " 'VANDALISM OVER $1500',\n",
       " 'LARCENY, APA',\n",
       " 'ROBBERY, CHAIN STORE',\n",
       " 'BURGLARY, COMM., N/F',\n",
       " 'COMPUTER HACKING',\n",
       " 'FRAUD, BAD CHECKS']"
      ]
     },
     "execution_count": 13,
     "metadata": {},
     "output_type": "execute_result"
    }
   ],
   "source": [
    "crime_type_list = list(crime_data['incident_type_primary'].unique())\n",
    "crime_type_list"
   ]
  },
  {
   "cell_type": "code",
   "execution_count": 29,
   "metadata": {
    "collapsed": false
   },
   "outputs": [],
   "source": [
    "delements = {}\n",
    "for i in crime_type_list:\n",
    "    delements[i] = float('nan')"
   ]
  },
  {
   "cell_type": "code",
   "execution_count": 30,
   "metadata": {
    "collapsed": false
   },
   "outputs": [],
   "source": [
    "for i in list(grouped_data.keys()):\n",
    "    delements[i] = grouped_data[i]"
   ]
  },
  {
   "cell_type": "code",
   "execution_count": 28,
   "metadata": {
    "collapsed": false
   },
   "outputs": [],
   "source": [
    "delements_2 = {}\n",
    "for i in crime_type_list:\n",
    "    delements_2[i] = float('nan')\n",
    "for i in list(grouped_data_2.keys()):\n",
    "    delements_2[i] = grouped_data_2[i]\n",
    "    \n"
   ]
  },
  {
   "cell_type": "code",
   "execution_count": 32,
   "metadata": {
    "collapsed": false
   },
   "outputs": [
    {
     "data": {
      "text/plain": [
       "{'ASSAULT, AGGRAVATED': nan,\n",
       " 'ASSAULT, SIMPLE': nan,\n",
       " 'Assault': 24,\n",
       " 'BURGLARY, COMM., ATTEMPT': nan,\n",
       " 'BURGLARY, COMM., F/E': nan,\n",
       " 'BURGLARY, COMM., N/F': nan,\n",
       " 'BURGLARY, RES., ATTEMPT': nan,\n",
       " 'BURGLARY, RES., F/E': nan,\n",
       " 'BURGLARY, RES., N/F': nan,\n",
       " 'Breaking & Entering': 93,\n",
       " 'COMPUTER HACKING': nan,\n",
       " 'CONTROLLED SUBSTANCE FOR DISPOSAL (I.E. NEEDLES, E': nan,\n",
       " 'CONTROLLED SUBSTANCE VIOLATION': nan,\n",
       " 'Drugs': 21,\n",
       " 'EMBEZZLEMENT': nan,\n",
       " 'FORGERY (DOCUMENTS, COURT PAPERS, ETC)': nan,\n",
       " 'FORGERY CHECKS': nan,\n",
       " 'FRAUD, ALL OTHER': nan,\n",
       " 'FRAUD, BAD CHECKS': nan,\n",
       " 'IDENTITY THEFT': nan,\n",
       " 'ILLEGAL DUMPING': nan,\n",
       " 'LARCENY, APA': nan,\n",
       " 'LARCENY, BIKE': nan,\n",
       " 'LARCENY, COMD': nan,\n",
       " 'LARCENY, NSC': nan,\n",
       " 'LARCENY, P/P': nan,\n",
       " 'LARCENY, P/S': nan,\n",
       " 'LARCENY, S/L': nan,\n",
       " 'LARCENY, TFA': nan,\n",
       " 'LARCENY, TFB': nan,\n",
       " 'MAIL THEFT': nan,\n",
       " 'Property Crime': 48,\n",
       " 'ROBBERY, CHAIN STORE': nan,\n",
       " 'ROBBERY, HIGHWAY': nan,\n",
       " 'ROBBERY, MISC': nan,\n",
       " 'ROBBERY, RESIDENCE': nan,\n",
       " 'Robbery': 4,\n",
       " 'THEFT, AUTO': nan,\n",
       " 'THEFT, OTHER VEHICLE': nan,\n",
       " 'TRESPASS': nan,\n",
       " 'Theft': 63,\n",
       " 'Theft from Vehicle': 35,\n",
       " 'Theft of Vehicle': 15,\n",
       " 'VANDALISM OVER $1500': nan,\n",
       " 'VANDALISM UNDER $1500': 1}"
      ]
     },
     "execution_count": 32,
     "metadata": {},
     "output_type": "execute_result"
    }
   ],
   "source": [
    "delements_2"
   ]
  },
  {
   "cell_type": "code",
   "execution_count": 34,
   "metadata": {
    "collapsed": false
   },
   "outputs": [],
   "source": [
    "dlist =[]\n",
    "dlist.append(delements)\n",
    "dlist.append(delements_2)\n"
   ]
  },
  {
   "cell_type": "code",
   "execution_count": 35,
   "metadata": {
    "collapsed": false
   },
   "outputs": [
    {
     "data": {
      "text/plain": [
       "[{'ASSAULT, AGGRAVATED': nan,\n",
       "  'ASSAULT, SIMPLE': nan,\n",
       "  'Assault': 13,\n",
       "  'BURGLARY, COMM., ATTEMPT': nan,\n",
       "  'BURGLARY, COMM., F/E': nan,\n",
       "  'BURGLARY, COMM., N/F': nan,\n",
       "  'BURGLARY, RES., ATTEMPT': nan,\n",
       "  'BURGLARY, RES., F/E': 2,\n",
       "  'BURGLARY, RES., N/F': nan,\n",
       "  'Breaking & Entering': 85,\n",
       "  'COMPUTER HACKING': nan,\n",
       "  'CONTROLLED SUBSTANCE FOR DISPOSAL (I.E. NEEDLES, E': nan,\n",
       "  'CONTROLLED SUBSTANCE VIOLATION': nan,\n",
       "  'Drugs': 1,\n",
       "  'EMBEZZLEMENT': nan,\n",
       "  'FORGERY (DOCUMENTS, COURT PAPERS, ETC)': nan,\n",
       "  'FORGERY CHECKS': nan,\n",
       "  'FRAUD, ALL OTHER': nan,\n",
       "  'FRAUD, BAD CHECKS': nan,\n",
       "  'IDENTITY THEFT': nan,\n",
       "  'ILLEGAL DUMPING': nan,\n",
       "  'LARCENY, APA': nan,\n",
       "  'LARCENY, BIKE': nan,\n",
       "  'LARCENY, COMD': nan,\n",
       "  'LARCENY, NSC': nan,\n",
       "  'LARCENY, P/P': nan,\n",
       "  'LARCENY, P/S': nan,\n",
       "  'LARCENY, S/L': nan,\n",
       "  'LARCENY, TFA': nan,\n",
       "  'LARCENY, TFB': nan,\n",
       "  'MAIL THEFT': nan,\n",
       "  'Property Crime': 42,\n",
       "  'ROBBERY, CHAIN STORE': nan,\n",
       "  'ROBBERY, HIGHWAY': nan,\n",
       "  'ROBBERY, MISC': nan,\n",
       "  'ROBBERY, RESIDENCE': nan,\n",
       "  'Robbery': nan,\n",
       "  'THEFT, AUTO': nan,\n",
       "  'THEFT, OTHER VEHICLE': nan,\n",
       "  'TRESPASS': nan,\n",
       "  'Theft': 41,\n",
       "  'Theft from Vehicle': 8,\n",
       "  'Theft of Vehicle': 11,\n",
       "  'VANDALISM OVER $1500': nan,\n",
       "  'VANDALISM UNDER $1500': nan},\n",
       " {'ASSAULT, AGGRAVATED': nan,\n",
       "  'ASSAULT, SIMPLE': nan,\n",
       "  'Assault': 24,\n",
       "  'BURGLARY, COMM., ATTEMPT': nan,\n",
       "  'BURGLARY, COMM., F/E': nan,\n",
       "  'BURGLARY, COMM., N/F': nan,\n",
       "  'BURGLARY, RES., ATTEMPT': nan,\n",
       "  'BURGLARY, RES., F/E': nan,\n",
       "  'BURGLARY, RES., N/F': nan,\n",
       "  'Breaking & Entering': 93,\n",
       "  'COMPUTER HACKING': nan,\n",
       "  'CONTROLLED SUBSTANCE FOR DISPOSAL (I.E. NEEDLES, E': nan,\n",
       "  'CONTROLLED SUBSTANCE VIOLATION': nan,\n",
       "  'Drugs': 21,\n",
       "  'EMBEZZLEMENT': nan,\n",
       "  'FORGERY (DOCUMENTS, COURT PAPERS, ETC)': nan,\n",
       "  'FORGERY CHECKS': nan,\n",
       "  'FRAUD, ALL OTHER': nan,\n",
       "  'FRAUD, BAD CHECKS': nan,\n",
       "  'IDENTITY THEFT': nan,\n",
       "  'ILLEGAL DUMPING': nan,\n",
       "  'LARCENY, APA': nan,\n",
       "  'LARCENY, BIKE': nan,\n",
       "  'LARCENY, COMD': nan,\n",
       "  'LARCENY, NSC': nan,\n",
       "  'LARCENY, P/P': nan,\n",
       "  'LARCENY, P/S': nan,\n",
       "  'LARCENY, S/L': nan,\n",
       "  'LARCENY, TFA': nan,\n",
       "  'LARCENY, TFB': nan,\n",
       "  'MAIL THEFT': nan,\n",
       "  'Property Crime': 48,\n",
       "  'ROBBERY, CHAIN STORE': nan,\n",
       "  'ROBBERY, HIGHWAY': nan,\n",
       "  'ROBBERY, MISC': nan,\n",
       "  'ROBBERY, RESIDENCE': nan,\n",
       "  'Robbery': 4,\n",
       "  'THEFT, AUTO': nan,\n",
       "  'THEFT, OTHER VEHICLE': nan,\n",
       "  'TRESPASS': nan,\n",
       "  'Theft': 63,\n",
       "  'Theft from Vehicle': 35,\n",
       "  'Theft of Vehicle': 15,\n",
       "  'VANDALISM OVER $1500': nan,\n",
       "  'VANDALISM UNDER $1500': 1}]"
      ]
     },
     "execution_count": 35,
     "metadata": {},
     "output_type": "execute_result"
    }
   ],
   "source": [
    "dlist"
   ]
  },
  {
   "cell_type": "code",
   "execution_count": 36,
   "metadata": {
    "collapsed": true
   },
   "outputs": [],
   "source": [
    "df = pd.DataFrame(dlist)"
   ]
  },
  {
   "cell_type": "code",
   "execution_count": 37,
   "metadata": {
    "collapsed": false
   },
   "outputs": [
    {
     "data": {
      "text/html": [
       "<div>\n",
       "<table border=\"1\" class=\"dataframe\">\n",
       "  <thead>\n",
       "    <tr style=\"text-align: right;\">\n",
       "      <th></th>\n",
       "      <th>ASSAULT, AGGRAVATED</th>\n",
       "      <th>ASSAULT, SIMPLE</th>\n",
       "      <th>Assault</th>\n",
       "      <th>BURGLARY, COMM., ATTEMPT</th>\n",
       "      <th>BURGLARY, COMM., F/E</th>\n",
       "      <th>BURGLARY, COMM., N/F</th>\n",
       "      <th>BURGLARY, RES., ATTEMPT</th>\n",
       "      <th>BURGLARY, RES., F/E</th>\n",
       "      <th>BURGLARY, RES., N/F</th>\n",
       "      <th>Breaking &amp; Entering</th>\n",
       "      <th>...</th>\n",
       "      <th>ROBBERY, RESIDENCE</th>\n",
       "      <th>Robbery</th>\n",
       "      <th>THEFT, AUTO</th>\n",
       "      <th>THEFT, OTHER VEHICLE</th>\n",
       "      <th>TRESPASS</th>\n",
       "      <th>Theft</th>\n",
       "      <th>Theft from Vehicle</th>\n",
       "      <th>Theft of Vehicle</th>\n",
       "      <th>VANDALISM OVER $1500</th>\n",
       "      <th>VANDALISM UNDER $1500</th>\n",
       "    </tr>\n",
       "  </thead>\n",
       "  <tbody>\n",
       "    <tr>\n",
       "      <th>0</th>\n",
       "      <td>NaN</td>\n",
       "      <td>NaN</td>\n",
       "      <td>13</td>\n",
       "      <td>NaN</td>\n",
       "      <td>NaN</td>\n",
       "      <td>NaN</td>\n",
       "      <td>NaN</td>\n",
       "      <td>2.0</td>\n",
       "      <td>NaN</td>\n",
       "      <td>85</td>\n",
       "      <td>...</td>\n",
       "      <td>NaN</td>\n",
       "      <td>NaN</td>\n",
       "      <td>NaN</td>\n",
       "      <td>NaN</td>\n",
       "      <td>NaN</td>\n",
       "      <td>41</td>\n",
       "      <td>8</td>\n",
       "      <td>11</td>\n",
       "      <td>NaN</td>\n",
       "      <td>NaN</td>\n",
       "    </tr>\n",
       "    <tr>\n",
       "      <th>1</th>\n",
       "      <td>NaN</td>\n",
       "      <td>NaN</td>\n",
       "      <td>24</td>\n",
       "      <td>NaN</td>\n",
       "      <td>NaN</td>\n",
       "      <td>NaN</td>\n",
       "      <td>NaN</td>\n",
       "      <td>NaN</td>\n",
       "      <td>NaN</td>\n",
       "      <td>93</td>\n",
       "      <td>...</td>\n",
       "      <td>NaN</td>\n",
       "      <td>4.0</td>\n",
       "      <td>NaN</td>\n",
       "      <td>NaN</td>\n",
       "      <td>NaN</td>\n",
       "      <td>63</td>\n",
       "      <td>35</td>\n",
       "      <td>15</td>\n",
       "      <td>NaN</td>\n",
       "      <td>1.0</td>\n",
       "    </tr>\n",
       "  </tbody>\n",
       "</table>\n",
       "<p>2 rows × 45 columns</p>\n",
       "</div>"
      ],
      "text/plain": [
       "   ASSAULT, AGGRAVATED  ASSAULT, SIMPLE  Assault  BURGLARY, COMM., ATTEMPT  \\\n",
       "0                  NaN              NaN       13                       NaN   \n",
       "1                  NaN              NaN       24                       NaN   \n",
       "\n",
       "   BURGLARY, COMM., F/E  BURGLARY, COMM., N/F  BURGLARY, RES., ATTEMPT  \\\n",
       "0                   NaN                   NaN                      NaN   \n",
       "1                   NaN                   NaN                      NaN   \n",
       "\n",
       "   BURGLARY, RES., F/E  BURGLARY, RES., N/F  Breaking & Entering  \\\n",
       "0                  2.0                  NaN                   85   \n",
       "1                  NaN                  NaN                   93   \n",
       "\n",
       "           ...            ROBBERY, RESIDENCE  Robbery  THEFT, AUTO  \\\n",
       "0          ...                           NaN      NaN          NaN   \n",
       "1          ...                           NaN      4.0          NaN   \n",
       "\n",
       "   THEFT, OTHER VEHICLE  TRESPASS  Theft  Theft from Vehicle  \\\n",
       "0                   NaN       NaN     41                   8   \n",
       "1                   NaN       NaN     63                  35   \n",
       "\n",
       "   Theft of Vehicle  VANDALISM OVER $1500  VANDALISM UNDER $1500  \n",
       "0                11                   NaN                    NaN  \n",
       "1                15                   NaN                    1.0  \n",
       "\n",
       "[2 rows x 45 columns]"
      ]
     },
     "execution_count": 37,
     "metadata": {},
     "output_type": "execute_result"
    }
   ],
   "source": [
    "df"
   ]
  },
  {
   "cell_type": "code",
   "execution_count": 38,
   "metadata": {
    "collapsed": false
   },
   "outputs": [
    {
     "data": {
      "text/html": [
       "<div>\n",
       "<table border=\"1\" class=\"dataframe\">\n",
       "  <thead>\n",
       "    <tr style=\"text-align: right;\">\n",
       "      <th></th>\n",
       "      <th>id</th>\n",
       "      <th>date</th>\n",
       "      <th>price</th>\n",
       "      <th>bedrooms</th>\n",
       "      <th>bathrooms</th>\n",
       "      <th>sqft_living</th>\n",
       "      <th>sqft_lot</th>\n",
       "      <th>floors</th>\n",
       "      <th>waterfront</th>\n",
       "      <th>view</th>\n",
       "      <th>...</th>\n",
       "      <th>grade</th>\n",
       "      <th>sqft_above</th>\n",
       "      <th>sqft_basement</th>\n",
       "      <th>yr_built</th>\n",
       "      <th>yr_renovated</th>\n",
       "      <th>zipcode</th>\n",
       "      <th>lat</th>\n",
       "      <th>long</th>\n",
       "      <th>sqft_living15</th>\n",
       "      <th>sqft_lot15</th>\n",
       "    </tr>\n",
       "  </thead>\n",
       "  <tbody>\n",
       "    <tr>\n",
       "      <th>0</th>\n",
       "      <td>7129300520</td>\n",
       "      <td>20141013T000000</td>\n",
       "      <td>221900.0</td>\n",
       "      <td>3</td>\n",
       "      <td>1.00</td>\n",
       "      <td>1180</td>\n",
       "      <td>5650</td>\n",
       "      <td>1.0</td>\n",
       "      <td>0</td>\n",
       "      <td>0</td>\n",
       "      <td>...</td>\n",
       "      <td>7</td>\n",
       "      <td>1180</td>\n",
       "      <td>0</td>\n",
       "      <td>1955</td>\n",
       "      <td>0</td>\n",
       "      <td>98178</td>\n",
       "      <td>47.5112</td>\n",
       "      <td>-122.257</td>\n",
       "      <td>1340</td>\n",
       "      <td>5650</td>\n",
       "    </tr>\n",
       "    <tr>\n",
       "      <th>1</th>\n",
       "      <td>6414100192</td>\n",
       "      <td>20141209T000000</td>\n",
       "      <td>538000.0</td>\n",
       "      <td>3</td>\n",
       "      <td>2.25</td>\n",
       "      <td>2570</td>\n",
       "      <td>7242</td>\n",
       "      <td>2.0</td>\n",
       "      <td>0</td>\n",
       "      <td>0</td>\n",
       "      <td>...</td>\n",
       "      <td>7</td>\n",
       "      <td>2170</td>\n",
       "      <td>400</td>\n",
       "      <td>1951</td>\n",
       "      <td>1991</td>\n",
       "      <td>98125</td>\n",
       "      <td>47.7210</td>\n",
       "      <td>-122.319</td>\n",
       "      <td>1690</td>\n",
       "      <td>7639</td>\n",
       "    </tr>\n",
       "    <tr>\n",
       "      <th>2</th>\n",
       "      <td>5631500400</td>\n",
       "      <td>20150225T000000</td>\n",
       "      <td>180000.0</td>\n",
       "      <td>2</td>\n",
       "      <td>1.00</td>\n",
       "      <td>770</td>\n",
       "      <td>10000</td>\n",
       "      <td>1.0</td>\n",
       "      <td>0</td>\n",
       "      <td>0</td>\n",
       "      <td>...</td>\n",
       "      <td>6</td>\n",
       "      <td>770</td>\n",
       "      <td>0</td>\n",
       "      <td>1933</td>\n",
       "      <td>0</td>\n",
       "      <td>98028</td>\n",
       "      <td>47.7379</td>\n",
       "      <td>-122.233</td>\n",
       "      <td>2720</td>\n",
       "      <td>8062</td>\n",
       "    </tr>\n",
       "    <tr>\n",
       "      <th>3</th>\n",
       "      <td>2487200875</td>\n",
       "      <td>20141209T000000</td>\n",
       "      <td>604000.0</td>\n",
       "      <td>4</td>\n",
       "      <td>3.00</td>\n",
       "      <td>1960</td>\n",
       "      <td>5000</td>\n",
       "      <td>1.0</td>\n",
       "      <td>0</td>\n",
       "      <td>0</td>\n",
       "      <td>...</td>\n",
       "      <td>7</td>\n",
       "      <td>1050</td>\n",
       "      <td>910</td>\n",
       "      <td>1965</td>\n",
       "      <td>0</td>\n",
       "      <td>98136</td>\n",
       "      <td>47.5208</td>\n",
       "      <td>-122.393</td>\n",
       "      <td>1360</td>\n",
       "      <td>5000</td>\n",
       "    </tr>\n",
       "    <tr>\n",
       "      <th>4</th>\n",
       "      <td>1954400510</td>\n",
       "      <td>20150218T000000</td>\n",
       "      <td>510000.0</td>\n",
       "      <td>3</td>\n",
       "      <td>2.00</td>\n",
       "      <td>1680</td>\n",
       "      <td>8080</td>\n",
       "      <td>1.0</td>\n",
       "      <td>0</td>\n",
       "      <td>0</td>\n",
       "      <td>...</td>\n",
       "      <td>8</td>\n",
       "      <td>1680</td>\n",
       "      <td>0</td>\n",
       "      <td>1987</td>\n",
       "      <td>0</td>\n",
       "      <td>98074</td>\n",
       "      <td>47.6168</td>\n",
       "      <td>-122.045</td>\n",
       "      <td>1800</td>\n",
       "      <td>7503</td>\n",
       "    </tr>\n",
       "  </tbody>\n",
       "</table>\n",
       "<p>5 rows × 21 columns</p>\n",
       "</div>"
      ],
      "text/plain": [
       "           id             date     price  bedrooms  bathrooms  sqft_living  \\\n",
       "0  7129300520  20141013T000000  221900.0         3       1.00         1180   \n",
       "1  6414100192  20141209T000000  538000.0         3       2.25         2570   \n",
       "2  5631500400  20150225T000000  180000.0         2       1.00          770   \n",
       "3  2487200875  20141209T000000  604000.0         4       3.00         1960   \n",
       "4  1954400510  20150218T000000  510000.0         3       2.00         1680   \n",
       "\n",
       "   sqft_lot  floors  waterfront  view     ...      grade  sqft_above  \\\n",
       "0      5650     1.0           0     0     ...          7        1180   \n",
       "1      7242     2.0           0     0     ...          7        2170   \n",
       "2     10000     1.0           0     0     ...          6         770   \n",
       "3      5000     1.0           0     0     ...          7        1050   \n",
       "4      8080     1.0           0     0     ...          8        1680   \n",
       "\n",
       "   sqft_basement  yr_built  yr_renovated  zipcode      lat     long  \\\n",
       "0              0      1955             0    98178  47.5112 -122.257   \n",
       "1            400      1951          1991    98125  47.7210 -122.319   \n",
       "2              0      1933             0    98028  47.7379 -122.233   \n",
       "3            910      1965             0    98136  47.5208 -122.393   \n",
       "4              0      1987             0    98074  47.6168 -122.045   \n",
       "\n",
       "   sqft_living15  sqft_lot15  \n",
       "0           1340        5650  \n",
       "1           1690        7639  \n",
       "2           2720        8062  \n",
       "3           1360        5000  \n",
       "4           1800        7503  \n",
       "\n",
       "[5 rows x 21 columns]"
      ]
     },
     "execution_count": 38,
     "metadata": {},
     "output_type": "execute_result"
    }
   ],
   "source": [
    "house_data.head()"
   ]
  },
  {
   "cell_type": "code",
   "execution_count": 41,
   "metadata": {
    "collapsed": false
   },
   "outputs": [
    {
     "data": {
      "text/plain": [
       "21613"
      ]
     },
     "execution_count": 41,
     "metadata": {},
     "output_type": "execute_result"
    }
   ],
   "source": [
    "len(house_data)"
   ]
  },
  {
   "cell_type": "code",
   "execution_count": 82,
   "metadata": {
    "collapsed": false
   },
   "outputs": [
    {
     "name": "stderr",
     "output_type": "stream",
     "text": [
      "/Users/hunting/miniconda3/lib/python3.5/site-packages/IPython/core/interactiveshell.py:2717: DtypeWarning: Columns (1) have mixed types. Specify dtype option on import or set low_memory=False.\n",
      "  interactivity=interactivity, compiler=compiler, result=result)\n"
     ]
    }
   ],
   "source": [
    "import pandas as pd\n",
    "import numpy as np\n",
    "from crime_info import crime_count\n",
    "house_data = pd.read_csv('../data/kc_house_data.csv')\n",
    "crime_data = pd.read_csv('../data/King_County_Sheriff_s_Office.csv')\n",
    "crime_type = list(crime_data['incident_type_primary'])\n",
    "crime_type_list = list(crime_data['incident_type_primary'].unique())\n",
    "crime_lats = list(crime_data.latitude)\n",
    "crime_lons = list(crime_data.longitude)\n",
    "crime_gps = list(zip(crime_lats,crime_lons))\n",
    "\n",
    "\n",
    "def crime_info_output():\n",
    "    df_list = [] \n",
    "    \n",
    "    for i in range(0, len(house_data)-1):\n",
    "        df_element = {}\n",
    "        df_element['house id'] = house_data.id[i]\n",
    "        for j in crime_type_list:\n",
    "            df_element[j] = float('nan')\n",
    "        \n",
    "        count_numb = 0\n",
    "        grouped_crime = {}\n",
    "        house_gps = (house_data.lat[i], house_data.long[i])\n",
    "        if np.isnan(house_gps[0]) or np.isnan(house_gps[1]):\n",
    "            pass\n",
    "        else:\n",
    "            (count_numb, grouped_crime) = crime_count(house_gps, crime_gps, crime_type)\n",
    "            for j in list(grouped_crime.keys()):\n",
    "                df_element[j] = grouped_crime[j]\n",
    "            df_list.append(df_element)\n",
    "        \n",
    "    df = pd.DataFrame(df_list)\n",
    "    cols = df.columns.tolist()\n",
    "    cols = cols[-1:] + cols[:-1]\n",
    "    df = df[cols]\n",
    "    \n",
    "    \n",
    "    return df  "
   ]
  },
  {
   "cell_type": "code",
   "execution_count": 81,
   "metadata": {
    "collapsed": false
   },
   "outputs": [],
   "source": [
    "import numpy as np\n",
    "for i in range(0, len(house_data)-1):\n",
    "    house_gps = (house_data.lat[i], house_data.long[i])\n",
    "    if np.isnan(house_gps[0]) or np.isnan(house_gps[1]):\n",
    "        print(house_data.id[i])\n",
    "    else:\n",
    "        pass"
   ]
  },
  {
   "cell_type": "code",
   "execution_count": 84,
   "metadata": {
    "collapsed": false
   },
   "outputs": [
    {
     "ename": "KeyboardInterrupt",
     "evalue": "",
     "output_type": "error",
     "traceback": [
      "\u001b[0;31m---------------------------------------------------------------------------\u001b[0m",
      "\u001b[0;31mKeyboardInterrupt\u001b[0m                         Traceback (most recent call last)",
      "\u001b[0;32m<ipython-input-84-46e27bf4a75d>\u001b[0m in \u001b[0;36m<module>\u001b[0;34m()\u001b[0m\n\u001b[0;32m----> 1\u001b[0;31m \u001b[0mdf\u001b[0m \u001b[0;34m=\u001b[0m \u001b[0mcrime_info_output\u001b[0m\u001b[0;34m(\u001b[0m\u001b[0;34m)\u001b[0m\u001b[0;34m\u001b[0m\u001b[0m\n\u001b[0m",
      "\u001b[0;32m<ipython-input-82-435aa61a252e>\u001b[0m in \u001b[0;36mcrime_info_output\u001b[0;34m()\u001b[0m\n\u001b[1;32m     23\u001b[0m             \u001b[0;32mpass\u001b[0m\u001b[0;34m\u001b[0m\u001b[0m\n\u001b[1;32m     24\u001b[0m         \u001b[0;32melse\u001b[0m\u001b[0;34m:\u001b[0m\u001b[0;34m\u001b[0m\u001b[0m\n\u001b[0;32m---> 25\u001b[0;31m             \u001b[0;34m(\u001b[0m\u001b[0mcount_numb\u001b[0m\u001b[0;34m,\u001b[0m \u001b[0mgrouped_crime\u001b[0m\u001b[0;34m)\u001b[0m \u001b[0;34m=\u001b[0m \u001b[0mcrime_count\u001b[0m\u001b[0;34m(\u001b[0m\u001b[0mhouse_gps\u001b[0m\u001b[0;34m,\u001b[0m \u001b[0mcrime_gps\u001b[0m\u001b[0;34m,\u001b[0m \u001b[0mcrime_type\u001b[0m\u001b[0;34m)\u001b[0m\u001b[0;34m\u001b[0m\u001b[0m\n\u001b[0m\u001b[1;32m     26\u001b[0m             \u001b[0;32mfor\u001b[0m \u001b[0mj\u001b[0m \u001b[0;32min\u001b[0m \u001b[0mlist\u001b[0m\u001b[0;34m(\u001b[0m\u001b[0mgrouped_crime\u001b[0m\u001b[0;34m.\u001b[0m\u001b[0mkeys\u001b[0m\u001b[0;34m(\u001b[0m\u001b[0;34m)\u001b[0m\u001b[0;34m)\u001b[0m\u001b[0;34m:\u001b[0m\u001b[0;34m\u001b[0m\u001b[0m\n\u001b[1;32m     27\u001b[0m                 \u001b[0mdf_element\u001b[0m\u001b[0;34m[\u001b[0m\u001b[0mj\u001b[0m\u001b[0;34m]\u001b[0m \u001b[0;34m=\u001b[0m \u001b[0mgrouped_crime\u001b[0m\u001b[0;34m[\u001b[0m\u001b[0mj\u001b[0m\u001b[0;34m]\u001b[0m\u001b[0;34m\u001b[0m\u001b[0m\n",
      "\u001b[0;32m/Users/hunting/Curriculums/CSE599/KingCountyHouseRateExploration/preliminary_modules/crime_info.py\u001b[0m in \u001b[0;36mcrime_count\u001b[0;34m(house_gps, crime_gps, crime_type, cutoff, crime_plot, house_name)\u001b[0m\n\u001b[1;32m     35\u001b[0m             \u001b[0;32mpass\u001b[0m\u001b[0;34m\u001b[0m\u001b[0m\n\u001b[1;32m     36\u001b[0m         \u001b[0;32melse\u001b[0m\u001b[0;34m:\u001b[0m\u001b[0;34m\u001b[0m\u001b[0m\n\u001b[0;32m---> 37\u001b[0;31m             \u001b[0mdistance\u001b[0m \u001b[0;34m=\u001b[0m \u001b[0mvincenty\u001b[0m\u001b[0;34m(\u001b[0m\u001b[0mhouse_gps\u001b[0m\u001b[0;34m,\u001b[0m \u001b[0mcrime_gps\u001b[0m\u001b[0;34m[\u001b[0m\u001b[0mi\u001b[0m\u001b[0;34m]\u001b[0m\u001b[0;34m)\u001b[0m\u001b[0;34m.\u001b[0m\u001b[0mmiles\u001b[0m\u001b[0;34m\u001b[0m\u001b[0m\n\u001b[0m\u001b[1;32m     38\u001b[0m             \u001b[0;32mif\u001b[0m  \u001b[0mdistance\u001b[0m \u001b[0;34m<=\u001b[0m \u001b[0mcutoff\u001b[0m\u001b[0;34m:\u001b[0m\u001b[0;34m\u001b[0m\u001b[0m\n\u001b[1;32m     39\u001b[0m                 \u001b[0mcount\u001b[0m \u001b[0;34m+=\u001b[0m \u001b[0;36m1\u001b[0m\u001b[0;34m\u001b[0m\u001b[0m\n",
      "\u001b[0;32m/Users/hunting/miniconda3/lib/python3.5/site-packages/geopy/distance.py\u001b[0m in \u001b[0;36m__init__\u001b[0;34m(self, *args, **kwargs)\u001b[0m\n\u001b[1;32m    320\u001b[0m         \u001b[0mself\u001b[0m\u001b[0;34m.\u001b[0m\u001b[0miterations\u001b[0m \u001b[0;34m=\u001b[0m \u001b[0mkwargs\u001b[0m\u001b[0;34m.\u001b[0m\u001b[0mpop\u001b[0m\u001b[0;34m(\u001b[0m\u001b[0;34m'iterations'\u001b[0m\u001b[0;34m,\u001b[0m \u001b[0;36m20\u001b[0m\u001b[0;34m)\u001b[0m\u001b[0;34m\u001b[0m\u001b[0m\n\u001b[1;32m    321\u001b[0m         \u001b[0mmajor\u001b[0m\u001b[0;34m,\u001b[0m \u001b[0mminor\u001b[0m\u001b[0;34m,\u001b[0m \u001b[0mf\u001b[0m \u001b[0;34m=\u001b[0m \u001b[0mself\u001b[0m\u001b[0;34m.\u001b[0m\u001b[0mELLIPSOID\u001b[0m \u001b[0;31m# pylint: disable=W0612\u001b[0m\u001b[0;34m\u001b[0m\u001b[0m\n\u001b[0;32m--> 322\u001b[0;31m         \u001b[0msuper\u001b[0m\u001b[0;34m(\u001b[0m\u001b[0mvincenty\u001b[0m\u001b[0;34m,\u001b[0m \u001b[0mself\u001b[0m\u001b[0;34m)\u001b[0m\u001b[0;34m.\u001b[0m\u001b[0m__init__\u001b[0m\u001b[0;34m(\u001b[0m\u001b[0;34m*\u001b[0m\u001b[0margs\u001b[0m\u001b[0;34m,\u001b[0m \u001b[0;34m**\u001b[0m\u001b[0mkwargs\u001b[0m\u001b[0;34m)\u001b[0m\u001b[0;34m\u001b[0m\u001b[0m\n\u001b[0m\u001b[1;32m    323\u001b[0m \u001b[0;34m\u001b[0m\u001b[0m\n\u001b[1;32m    324\u001b[0m     \u001b[0;32mdef\u001b[0m \u001b[0mset_ellipsoid\u001b[0m\u001b[0;34m(\u001b[0m\u001b[0mself\u001b[0m\u001b[0;34m,\u001b[0m \u001b[0mellipsoid\u001b[0m\u001b[0;34m)\u001b[0m\u001b[0;34m:\u001b[0m\u001b[0;34m\u001b[0m\u001b[0m\n",
      "\u001b[0;32m/Users/hunting/miniconda3/lib/python3.5/site-packages/geopy/distance.py\u001b[0m in \u001b[0;36m__init__\u001b[0;34m(self, *args, **kwargs)\u001b[0m\n\u001b[1;32m    112\u001b[0m             \u001b[0mkilometers\u001b[0m \u001b[0;34m+=\u001b[0m \u001b[0margs\u001b[0m\u001b[0;34m[\u001b[0m\u001b[0;36m0\u001b[0m\u001b[0;34m]\u001b[0m\u001b[0;34m\u001b[0m\u001b[0m\n\u001b[1;32m    113\u001b[0m         \u001b[0;32melif\u001b[0m \u001b[0mlen\u001b[0m\u001b[0;34m(\u001b[0m\u001b[0margs\u001b[0m\u001b[0;34m)\u001b[0m \u001b[0;34m>\u001b[0m \u001b[0;36m1\u001b[0m\u001b[0;34m:\u001b[0m\u001b[0;34m\u001b[0m\u001b[0m\n\u001b[0;32m--> 114\u001b[0;31m             \u001b[0;32mfor\u001b[0m \u001b[0ma\u001b[0m\u001b[0;34m,\u001b[0m \u001b[0mb\u001b[0m \u001b[0;32min\u001b[0m \u001b[0mutil\u001b[0m\u001b[0;34m.\u001b[0m\u001b[0mpairwise\u001b[0m\u001b[0;34m(\u001b[0m\u001b[0margs\u001b[0m\u001b[0;34m)\u001b[0m\u001b[0;34m:\u001b[0m\u001b[0;34m\u001b[0m\u001b[0m\n\u001b[0m\u001b[1;32m    115\u001b[0m                 \u001b[0mkilometers\u001b[0m \u001b[0;34m+=\u001b[0m \u001b[0mself\u001b[0m\u001b[0;34m.\u001b[0m\u001b[0mmeasure\u001b[0m\u001b[0;34m(\u001b[0m\u001b[0ma\u001b[0m\u001b[0;34m,\u001b[0m \u001b[0mb\u001b[0m\u001b[0;34m)\u001b[0m\u001b[0;34m\u001b[0m\u001b[0m\n\u001b[1;32m    116\u001b[0m \u001b[0;34m\u001b[0m\u001b[0m\n",
      "\u001b[0;32m/Users/hunting/miniconda3/lib/python3.5/site-packages/geopy/util.py\u001b[0m in \u001b[0;36mpairwise\u001b[0;34m(seq)\u001b[0m\n\u001b[1;32m     36\u001b[0m     \u001b[0mPair\u001b[0m \u001b[0man\u001b[0m \u001b[0miterable\u001b[0m\u001b[0;34m,\u001b[0m \u001b[0me\u001b[0m\u001b[0;34m.\u001b[0m\u001b[0mg\u001b[0m\u001b[0;34m.\u001b[0m\u001b[0;34m,\u001b[0m \u001b[0;34m(\u001b[0m\u001b[0;36m1\u001b[0m\u001b[0;34m,\u001b[0m \u001b[0;36m2\u001b[0m\u001b[0;34m,\u001b[0m \u001b[0;36m3\u001b[0m\u001b[0;34m,\u001b[0m \u001b[0;36m4\u001b[0m\u001b[0;34m)\u001b[0m \u001b[0;34m->\u001b[0m \u001b[0;34m(\u001b[0m\u001b[0;34m(\u001b[0m\u001b[0;36m1\u001b[0m\u001b[0;34m,\u001b[0m \u001b[0;36m2\u001b[0m\u001b[0;34m)\u001b[0m\u001b[0;34m,\u001b[0m \u001b[0;34m(\u001b[0m\u001b[0;36m3\u001b[0m\u001b[0;34m,\u001b[0m \u001b[0;36m4\u001b[0m\u001b[0;34m)\u001b[0m\u001b[0;34m)\u001b[0m\u001b[0;34m\u001b[0m\u001b[0m\n\u001b[1;32m     37\u001b[0m     \"\"\"\n\u001b[0;32m---> 38\u001b[0;31m     \u001b[0;32mfor\u001b[0m \u001b[0mi\u001b[0m \u001b[0;32min\u001b[0m \u001b[0mrange\u001b[0m\u001b[0;34m(\u001b[0m\u001b[0;36m0\u001b[0m\u001b[0;34m,\u001b[0m \u001b[0mlen\u001b[0m\u001b[0;34m(\u001b[0m\u001b[0mseq\u001b[0m\u001b[0;34m)\u001b[0m \u001b[0;34m-\u001b[0m \u001b[0;36m1\u001b[0m\u001b[0;34m)\u001b[0m\u001b[0;34m:\u001b[0m\u001b[0;34m\u001b[0m\u001b[0m\n\u001b[0m\u001b[1;32m     39\u001b[0m         \u001b[0;32myield\u001b[0m \u001b[0;34m(\u001b[0m\u001b[0mseq\u001b[0m\u001b[0;34m[\u001b[0m\u001b[0mi\u001b[0m\u001b[0;34m]\u001b[0m\u001b[0;34m,\u001b[0m \u001b[0mseq\u001b[0m\u001b[0;34m[\u001b[0m\u001b[0mi\u001b[0m \u001b[0;34m+\u001b[0m \u001b[0;36m1\u001b[0m\u001b[0;34m]\u001b[0m\u001b[0;34m)\u001b[0m\u001b[0;34m\u001b[0m\u001b[0m\n\u001b[1;32m     40\u001b[0m \u001b[0;34m\u001b[0m\u001b[0m\n",
      "\u001b[0;31mKeyboardInterrupt\u001b[0m: "
     ]
    }
   ],
   "source": [
    "df = crime_info_output()"
   ]
  },
  {
   "cell_type": "code",
   "execution_count": 62,
   "metadata": {
    "collapsed": false
   },
   "outputs": [
    {
     "data": {
      "text/plain": [
       "1523300157"
      ]
     },
     "execution_count": 62,
     "metadata": {},
     "output_type": "execute_result"
    }
   ],
   "source": [
    "house_data.id[21612]"
   ]
  },
  {
   "cell_type": "code",
   "execution_count": 60,
   "metadata": {
    "collapsed": false
   },
   "outputs": [
    {
     "data": {
      "text/plain": [
       "21613"
      ]
     },
     "execution_count": 60,
     "metadata": {},
     "output_type": "execute_result"
    }
   ],
   "source": [
    "len(house_data)"
   ]
  },
  {
   "cell_type": "code",
   "execution_count": null,
   "metadata": {
    "collapsed": true
   },
   "outputs": [],
   "source": []
  }
 ],
 "metadata": {
  "anaconda-cloud": {},
  "kernelspec": {
   "display_name": "Python [default]",
   "language": "python",
   "name": "python3"
  },
  "language_info": {
   "codemirror_mode": {
    "name": "ipython",
    "version": 3
   },
   "file_extension": ".py",
   "mimetype": "text/x-python",
   "name": "python",
   "nbconvert_exporter": "python",
   "pygments_lexer": "ipython3",
   "version": "3.5.2"
  }
 },
 "nbformat": 4,
 "nbformat_minor": 1
}
