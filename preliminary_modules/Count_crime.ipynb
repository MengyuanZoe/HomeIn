{
 "cells": [
  {
   "cell_type": "code",
   "execution_count": 7,
   "metadata": {
    "collapsed": true
   },
   "outputs": [],
   "source": [
    "import numpy as np\n",
    "import pandas as pd\n",
    "from geopy.distance import vincenty \n",
    "\n",
    "def crime_count(house_gps, crime_gps, cutoff=2.0):\n",
    "    \"\"\"\n",
    "    Count return numbers of crime reports around a specifc house gps corrdinates \n",
    "        within the cutoff distance.\n",
    "    \n",
    "    Parameters\n",
    "    ----------\n",
    "    house_gps: list , default None, Latitude and Longtitude of the house\n",
    "    crime_gps: tuple or list, default none, Latitudes and Longtitudes of the crime\n",
    "    cutoff: float, default 2.0, set up the rang for counting\n",
    "    \"\"\"\n",
    "    count = 0\n",
    "    crime_total = len(crime_gps)\n",
    "    for i in range(0, crime_total):\n",
    "        if np.isnan(crime_gps[i][0]) or np.isnan(crime_gps[i][1]):\n",
    "            pass\n",
    "        else:\n",
    "            distance = vincenty(house_gps, crime_gps[i]).miles\n",
    "            if  distance <= cutoff:\n",
    "                count += 1\n",
    "            else:\n",
    "                pass\n",
    "    return count\n"
   ]
  },
  {
   "cell_type": "code",
   "execution_count": 3,
   "metadata": {
    "collapsed": false
   },
   "outputs": [
    {
     "name": "stderr",
     "output_type": "stream",
     "text": [
      "/Users/hanghu/ls/lib/python3.5/site-packages/IPython/core/interactiveshell.py:2717: DtypeWarning: Columns (1) have mixed types. Specify dtype option on import or set low_memory=False.\n",
      "  interactivity=interactivity, compiler=compiler, result=result)\n"
     ]
    }
   ],
   "source": [
    "house_data = pd.read_csv('../data/kc_house_data.csv')\n",
    "crime_data = pd.read_csv('../data/King_County_Sheriff_s_Office.csv')"
   ]
  },
  {
   "cell_type": "code",
   "execution_count": 14,
   "metadata": {
    "collapsed": false
   },
   "outputs": [
    {
     "data": {
      "text/plain": [
       "(47.427291199999999, -122.02940749999999)"
      ]
     },
     "execution_count": 14,
     "metadata": {},
     "output_type": "execute_result"
    }
   ],
   "source": [
    "house_gps = house_gps = (crime_data.latitude[1561], crime_data.longitude[1561])\n",
    "house_gps"
   ]
  },
  {
   "cell_type": "code",
   "execution_count": 5,
   "metadata": {
    "collapsed": false
   },
   "outputs": [],
   "source": [
    "crime_lats = list(crime_data.latitude)\n",
    "crime_lons = list(crime_data.longitude)\n",
    "crime_gps = list(zip(crime_lats,crime_lons))"
   ]
  },
  {
   "cell_type": "code",
   "execution_count": 8,
   "metadata": {
    "collapsed": false
   },
   "outputs": [],
   "source": [
    "count_house0 = crime_count(house_gps, crime_gps)"
   ]
  },
  {
   "cell_type": "code",
   "execution_count": 15,
   "metadata": {
    "collapsed": true
   },
   "outputs": [],
   "source": [
    "count_house1561 = crime_count(house_gps, crime_gps)"
   ]
  },
  {
   "cell_type": "code",
   "execution_count": 16,
   "metadata": {
    "collapsed": false
   },
   "outputs": [
    {
     "data": {
      "text/plain": [
       "941"
      ]
     },
     "execution_count": 16,
     "metadata": {},
     "output_type": "execute_result"
    }
   ],
   "source": [
    "count_house1561"
   ]
  },
  {
   "cell_type": "code",
   "execution_count": null,
   "metadata": {
    "collapsed": true
   },
   "outputs": [],
   "source": []
  }
 ],
 "metadata": {
  "anaconda-cloud": {},
  "kernelspec": {
   "display_name": "Python 3",
   "language": "python",
   "name": "python3"
  },
  "language_info": {
   "codemirror_mode": {
    "name": "ipython",
    "version": 3
   },
   "file_extension": ".py",
   "mimetype": "text/x-python",
   "name": "python",
   "nbconvert_exporter": "python",
   "pygments_lexer": "ipython3",
   "version": "3.5.2"
  }
 },
 "nbformat": 4,
 "nbformat_minor": 1
}
