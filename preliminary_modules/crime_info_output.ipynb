{
 "cells": [
  {
   "cell_type": "code",
   "execution_count": 18,
   "metadata": {
    "collapsed": false
   },
   "outputs": [],
   "source": [
    "import pandas as pd\n",
    "import numpy as np\n",
    "from crime_info import crime_count\n",
    "house_data = pd.read_csv('../data/kc_house_data.csv')\n",
    "crime_data = pd.read_csv('../data/cleaned_crime_data.csv')\n",
    "crime_type = list(crime_data['incident_type_primary'])\n",
    "crime_type_list = list(crime_data['incident_type_primary'].unique())\n",
    "crime_lats = list(crime_data.latitude)\n",
    "crime_lons = list(crime_data.longitude)\n",
    "crime_gps = list(zip(crime_lats,crime_lons))\n",
    "\n",
    "\n",
    "def crime_info_output():\n",
    "    df_list = [] \n",
    "    \n",
    "    #for i in range(0, len(house_data)-1):\n",
    "    for i in range (0, 10):\n",
    "        df_element = {}\n",
    "        df_element['id'] = house_data.id[i]\n",
    "        for j in crime_type_list:\n",
    "            df_element[j] = 0.0\n",
    "        \n",
    "        count_numb = 0\n",
    "        grouped_crime = {}\n",
    "        house_gps = (house_data.lat[i], house_data.long[i])\n",
    "        if np.isnan(house_gps[0]) or np.isnan(house_gps[1]):\n",
    "            pass\n",
    "        else:\n",
    "            (counted_numb, grouped_crime) = crime_count(house_gps, crime_gps, crime_type)\n",
    "            for j in list(grouped_crime.keys()):\n",
    "                df_element[j] = grouped_crime[j]\n",
    "        df_element['number of crimes'] = counted_numb\n",
    "        df_list.append(df_element)\n",
    "        \n",
    "            \n",
    "    \n",
    "    df = pd.DataFrame(df_list)\n",
    "    cols = df.columns.tolist()\n",
    "    cols = cols[-2:] + cols[:-2]\n",
    "    df = df[cols]\n",
    "    return df  "
   ]
  },
  {
   "cell_type": "code",
   "execution_count": 19,
   "metadata": {
    "collapsed": false
   },
   "outputs": [],
   "source": [
    "df = crime_info_output()"
   ]
  },
  {
   "cell_type": "code",
   "execution_count": 20,
   "metadata": {
    "collapsed": false
   },
   "outputs": [],
   "source": [
    "df.to_csv('../Data/crime_info_sample_of_10.csv')"
   ]
  },
  {
   "cell_type": "code",
   "execution_count": null,
   "metadata": {
    "collapsed": true
   },
   "outputs": [],
   "source": []
  }
 ],
 "metadata": {
  "anaconda-cloud": {},
  "kernelspec": {
   "display_name": "Python [conda root]",
   "language": "python",
   "name": "conda-root-py"
  },
  "language_info": {
   "codemirror_mode": {
    "name": "ipython",
    "version": 3
   },
   "file_extension": ".py",
   "mimetype": "text/x-python",
   "name": "python",
   "nbconvert_exporter": "python",
   "pygments_lexer": "ipython3",
   "version": "3.5.2"
  }
 },
 "nbformat": 4,
 "nbformat_minor": 1
}
