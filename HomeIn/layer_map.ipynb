{
 "cells": [
  {
   "cell_type": "code",
   "execution_count": 1,
   "metadata": {
    "collapsed": false
   },
   "outputs": [],
   "source": [
    "import numpy as np\n",
    "import pandas as pd \n",
    "pd.set_option('display.max_columns', None) # To display all columns\n",
    "import matplotlib.pyplot as plt \n",
    "%matplotlib inline \n",
    "import folium \n",
    "from folium import plugins\n",
    "import house_cluster as hc"
   ]
  },
  {
   "cell_type": "code",
   "execution_count": 2,
   "metadata": {
    "collapsed": false
   },
   "outputs": [
    {
     "data": {
      "text/html": [
       "<div>\n",
       "<table border=\"1\" class=\"dataframe\">\n",
       "  <thead>\n",
       "    <tr style=\"text-align: right;\">\n",
       "      <th></th>\n",
       "      <th>Unnamed: 0</th>\n",
       "      <th>id</th>\n",
       "      <th>date</th>\n",
       "      <th>price</th>\n",
       "      <th>bedrooms</th>\n",
       "      <th>bathrooms</th>\n",
       "      <th>sqft_living</th>\n",
       "      <th>sqft_lot</th>\n",
       "      <th>floors</th>\n",
       "      <th>waterfront</th>\n",
       "      <th>view</th>\n",
       "      <th>condition</th>\n",
       "      <th>grade</th>\n",
       "      <th>sqft_above</th>\n",
       "      <th>sqft_basement</th>\n",
       "      <th>yr_built</th>\n",
       "      <th>yr_renovated</th>\n",
       "      <th>zipcode</th>\n",
       "      <th>lat</th>\n",
       "      <th>long</th>\n",
       "      <th>sqft_living15</th>\n",
       "      <th>sqft_lot15</th>\n",
       "      <th>Unnamed: 0.1</th>\n",
       "      <th>number of crimes</th>\n",
       "      <th>Assault</th>\n",
       "      <th>Breaking &amp; Entering</th>\n",
       "      <th>Drugs</th>\n",
       "      <th>Property Crime</th>\n",
       "      <th>Robbery</th>\n",
       "      <th>Theft</th>\n",
       "      <th>Theft from Vehicle</th>\n",
       "      <th>Theft of Vehicle</th>\n",
       "    </tr>\n",
       "  </thead>\n",
       "  <tbody>\n",
       "    <tr>\n",
       "      <th>0</th>\n",
       "      <td>0</td>\n",
       "      <td>7129300520</td>\n",
       "      <td>2014-10-13</td>\n",
       "      <td>221900.0</td>\n",
       "      <td>3</td>\n",
       "      <td>1.00</td>\n",
       "      <td>1180</td>\n",
       "      <td>5650</td>\n",
       "      <td>1.0</td>\n",
       "      <td>0</td>\n",
       "      <td>0</td>\n",
       "      <td>3</td>\n",
       "      <td>7</td>\n",
       "      <td>1180</td>\n",
       "      <td>0</td>\n",
       "      <td>1955</td>\n",
       "      <td>0</td>\n",
       "      <td>98178</td>\n",
       "      <td>47.5112</td>\n",
       "      <td>-122.257</td>\n",
       "      <td>1340</td>\n",
       "      <td>5650</td>\n",
       "      <td>0</td>\n",
       "      <td>408</td>\n",
       "      <td>32.0</td>\n",
       "      <td>131.0</td>\n",
       "      <td>11.0</td>\n",
       "      <td>85.0</td>\n",
       "      <td>6.0</td>\n",
       "      <td>39.0</td>\n",
       "      <td>54.0</td>\n",
       "      <td>50.0</td>\n",
       "    </tr>\n",
       "    <tr>\n",
       "      <th>1</th>\n",
       "      <td>1</td>\n",
       "      <td>6414100192</td>\n",
       "      <td>2014-12-09</td>\n",
       "      <td>538000.0</td>\n",
       "      <td>3</td>\n",
       "      <td>2.25</td>\n",
       "      <td>2570</td>\n",
       "      <td>7242</td>\n",
       "      <td>2.0</td>\n",
       "      <td>0</td>\n",
       "      <td>0</td>\n",
       "      <td>3</td>\n",
       "      <td>7</td>\n",
       "      <td>2170</td>\n",
       "      <td>400</td>\n",
       "      <td>1951</td>\n",
       "      <td>1991</td>\n",
       "      <td>98125</td>\n",
       "      <td>47.7210</td>\n",
       "      <td>-122.319</td>\n",
       "      <td>1690</td>\n",
       "      <td>7639</td>\n",
       "      <td>1</td>\n",
       "      <td>15</td>\n",
       "      <td>1.0</td>\n",
       "      <td>2.0</td>\n",
       "      <td>5.0</td>\n",
       "      <td>2.0</td>\n",
       "      <td>0.0</td>\n",
       "      <td>2.0</td>\n",
       "      <td>3.0</td>\n",
       "      <td>0.0</td>\n",
       "    </tr>\n",
       "  </tbody>\n",
       "</table>\n",
       "</div>"
      ],
      "text/plain": [
       "   Unnamed: 0          id       date     price  bedrooms  bathrooms  \\\n",
       "0           0  7129300520 2014-10-13  221900.0         3       1.00   \n",
       "1           1  6414100192 2014-12-09  538000.0         3       2.25   \n",
       "\n",
       "   sqft_living  sqft_lot  floors  waterfront  view  condition  grade  \\\n",
       "0         1180      5650     1.0           0     0          3      7   \n",
       "1         2570      7242     2.0           0     0          3      7   \n",
       "\n",
       "   sqft_above  sqft_basement  yr_built  yr_renovated zipcode      lat  \\\n",
       "0        1180              0      1955             0   98178  47.5112   \n",
       "1        2170            400      1951          1991   98125  47.7210   \n",
       "\n",
       "      long  sqft_living15  sqft_lot15  Unnamed: 0.1  number of crimes  \\\n",
       "0 -122.257           1340        5650             0               408   \n",
       "1 -122.319           1690        7639             1                15   \n",
       "\n",
       "   Assault  Breaking & Entering  Drugs  Property Crime  Robbery  Theft  \\\n",
       "0     32.0                131.0   11.0            85.0      6.0   39.0   \n",
       "1      1.0                  2.0    5.0             2.0      0.0    2.0   \n",
       "\n",
       "   Theft from Vehicle  Theft of Vehicle  \n",
       "0                54.0              50.0  \n",
       "1                 3.0               0.0  "
      ]
     },
     "execution_count": 2,
     "metadata": {},
     "output_type": "execute_result"
    }
   ],
   "source": [
    "data = pd.read_csv(\"../Data/house_crime_data.csv\", parse_dates = ['date'])\n",
    "data['zipcode'] = data['zipcode'].astype(str)\n",
    "data.head(2)"
   ]
  },
  {
   "cell_type": "code",
   "execution_count": 3,
   "metadata": {
    "collapsed": false,
    "scrolled": true
   },
   "outputs": [
    {
     "data": {
      "text/html": [
       "<div>\n",
       "<table border=\"1\" class=\"dataframe\">\n",
       "  <thead>\n",
       "    <tr style=\"text-align: right;\">\n",
       "      <th></th>\n",
       "      <th>Unnamed: 0</th>\n",
       "      <th>incident_id</th>\n",
       "      <th>case_number</th>\n",
       "      <th>incident_datetime</th>\n",
       "      <th>incident_type_primary</th>\n",
       "      <th>incident_description</th>\n",
       "      <th>clearance_type</th>\n",
       "      <th>address_1</th>\n",
       "      <th>address_2</th>\n",
       "      <th>city</th>\n",
       "      <th>state</th>\n",
       "      <th>zip</th>\n",
       "      <th>country</th>\n",
       "      <th>latitude</th>\n",
       "      <th>longitude</th>\n",
       "      <th>created_at</th>\n",
       "      <th>updated_at</th>\n",
       "      <th>location</th>\n",
       "      <th>hour_of_day</th>\n",
       "      <th>day_of_week</th>\n",
       "      <th>parent_incident_type</th>\n",
       "    </tr>\n",
       "  </thead>\n",
       "  <tbody>\n",
       "    <tr>\n",
       "      <th>0</th>\n",
       "      <td>232</td>\n",
       "      <td>46855834</td>\n",
       "      <td>-1074640623</td>\n",
       "      <td>2010-03-29</td>\n",
       "      <td>Property Crime</td>\n",
       "      <td>NaN</td>\n",
       "      <td>NaN</td>\n",
       "      <td>7900 Block S 115 ST</td>\n",
       "      <td>NaN</td>\n",
       "      <td>SEATTLE</td>\n",
       "      <td>WA</td>\n",
       "      <td>null</td>\n",
       "      <td>null</td>\n",
       "      <td>47.500626</td>\n",
       "      <td>-122.234039</td>\n",
       "      <td>09/25/2010 04:55:52 PM</td>\n",
       "      <td>10/24/2010 10:39:39 PM</td>\n",
       "      <td>POINT (-122.234039 47.500626)</td>\n",
       "      <td>0</td>\n",
       "      <td>Monday</td>\n",
       "      <td>Property Crime</td>\n",
       "    </tr>\n",
       "    <tr>\n",
       "      <th>1</th>\n",
       "      <td>419</td>\n",
       "      <td>751287106</td>\n",
       "      <td>584277381</td>\n",
       "      <td>2012-07-26</td>\n",
       "      <td>Property Crime</td>\n",
       "      <td>Time_00:01:00 Case_C16010785 Crime_FRAUD, ALL ...</td>\n",
       "      <td>NaN</td>\n",
       "      <td>10700 Block 21 AV SW</td>\n",
       "      <td>NaN</td>\n",
       "      <td>SEATTLE</td>\n",
       "      <td>WA</td>\n",
       "      <td>98146</td>\n",
       "      <td>NaN</td>\n",
       "      <td>47.507084</td>\n",
       "      <td>-122.360423</td>\n",
       "      <td>03/02/2016 04:03:43 AM</td>\n",
       "      <td>03/14/2016 05:30:39 AM</td>\n",
       "      <td>POINT (-122.3604234 47.5070838)</td>\n",
       "      <td>0</td>\n",
       "      <td>Thursday</td>\n",
       "      <td>Property Crime</td>\n",
       "    </tr>\n",
       "  </tbody>\n",
       "</table>\n",
       "</div>"
      ],
      "text/plain": [
       "   Unnamed: 0  incident_id  case_number incident_datetime  \\\n",
       "0         232     46855834  -1074640623        2010-03-29   \n",
       "1         419    751287106    584277381        2012-07-26   \n",
       "\n",
       "  incident_type_primary                               incident_description  \\\n",
       "0        Property Crime                                                NaN   \n",
       "1        Property Crime  Time_00:01:00 Case_C16010785 Crime_FRAUD, ALL ...   \n",
       "\n",
       "   clearance_type             address_1  address_2     city state    zip  \\\n",
       "0             NaN   7900 Block S 115 ST        NaN  SEATTLE    WA   null   \n",
       "1             NaN  10700 Block 21 AV SW        NaN  SEATTLE    WA  98146   \n",
       "\n",
       "  country   latitude   longitude              created_at  \\\n",
       "0    null  47.500626 -122.234039  09/25/2010 04:55:52 PM   \n",
       "1     NaN  47.507084 -122.360423  03/02/2016 04:03:43 AM   \n",
       "\n",
       "               updated_at                         location  hour_of_day  \\\n",
       "0  10/24/2010 10:39:39 PM    POINT (-122.234039 47.500626)            0   \n",
       "1  03/14/2016 05:30:39 AM  POINT (-122.3604234 47.5070838)            0   \n",
       "\n",
       "  day_of_week parent_incident_type  \n",
       "0      Monday       Property Crime  \n",
       "1    Thursday       Property Crime  "
      ]
     },
     "execution_count": 3,
     "metadata": {},
     "output_type": "execute_result"
    }
   ],
   "source": [
    "crime_data = pd.read_csv('../Data/cleaned_crime_data.csv', parse_dates=['incident_datetime'])\n",
    "crime_data.head(2)"
   ]
  },
  {
   "cell_type": "code",
   "execution_count": 4,
   "metadata": {
    "collapsed": false
   },
   "outputs": [
    {
     "data": {
      "text/html": [
       "<div>\n",
       "<table border=\"1\" class=\"dataframe\">\n",
       "  <thead>\n",
       "    <tr style=\"text-align: right;\">\n",
       "      <th></th>\n",
       "      <th>zipcode</th>\n",
       "      <th>Unnamed: 0</th>\n",
       "      <th>id</th>\n",
       "      <th>price</th>\n",
       "      <th>bedrooms</th>\n",
       "      <th>bathrooms</th>\n",
       "      <th>sqft_living</th>\n",
       "      <th>sqft_lot</th>\n",
       "      <th>floors</th>\n",
       "      <th>waterfront</th>\n",
       "      <th>view</th>\n",
       "      <th>condition</th>\n",
       "      <th>grade</th>\n",
       "      <th>sqft_above</th>\n",
       "      <th>sqft_basement</th>\n",
       "      <th>yr_built</th>\n",
       "      <th>yr_renovated</th>\n",
       "      <th>lat</th>\n",
       "      <th>long</th>\n",
       "      <th>sqft_living15</th>\n",
       "      <th>sqft_lot15</th>\n",
       "      <th>Unnamed: 0.1</th>\n",
       "      <th>number of crimes</th>\n",
       "      <th>Assault</th>\n",
       "      <th>Breaking &amp; Entering</th>\n",
       "      <th>Drugs</th>\n",
       "      <th>Property Crime</th>\n",
       "      <th>Robbery</th>\n",
       "      <th>Theft</th>\n",
       "      <th>Theft from Vehicle</th>\n",
       "      <th>Theft of Vehicle</th>\n",
       "      <th>count</th>\n",
       "    </tr>\n",
       "  </thead>\n",
       "  <tbody>\n",
       "    <tr>\n",
       "      <th>0</th>\n",
       "      <td>98001</td>\n",
       "      <td>11591.154891</td>\n",
       "      <td>4.645665e+09</td>\n",
       "      <td>279582.603261</td>\n",
       "      <td>3.366848</td>\n",
       "      <td>2.004755</td>\n",
       "      <td>1892.201087</td>\n",
       "      <td>14939.116848</td>\n",
       "      <td>1.425272</td>\n",
       "      <td>0.0</td>\n",
       "      <td>0.100543</td>\n",
       "      <td>3.347826</td>\n",
       "      <td>7.296196</td>\n",
       "      <td>1715.597826</td>\n",
       "      <td>176.603261</td>\n",
       "      <td>1980.331522</td>\n",
       "      <td>43.086957</td>\n",
       "      <td>47.309010</td>\n",
       "      <td>-122.270777</td>\n",
       "      <td>1824.635870</td>\n",
       "      <td>11250.543478</td>\n",
       "      <td>11394.796196</td>\n",
       "      <td>585.524457</td>\n",
       "      <td>41.173913</td>\n",
       "      <td>150.592391</td>\n",
       "      <td>11.309783</td>\n",
       "      <td>135.146739</td>\n",
       "      <td>6.790761</td>\n",
       "      <td>80.179348</td>\n",
       "      <td>112.105978</td>\n",
       "      <td>48.225543</td>\n",
       "      <td>368</td>\n",
       "    </tr>\n",
       "    <tr>\n",
       "      <th>1</th>\n",
       "      <td>98002</td>\n",
       "      <td>11487.246305</td>\n",
       "      <td>4.769607e+09</td>\n",
       "      <td>234165.137931</td>\n",
       "      <td>3.349754</td>\n",
       "      <td>1.842365</td>\n",
       "      <td>1628.379310</td>\n",
       "      <td>7533.906404</td>\n",
       "      <td>1.337438</td>\n",
       "      <td>0.0</td>\n",
       "      <td>0.009852</td>\n",
       "      <td>3.729064</td>\n",
       "      <td>6.689655</td>\n",
       "      <td>1525.246305</td>\n",
       "      <td>103.133005</td>\n",
       "      <td>1967.926108</td>\n",
       "      <td>58.709360</td>\n",
       "      <td>47.308759</td>\n",
       "      <td>-122.213429</td>\n",
       "      <td>1480.133005</td>\n",
       "      <td>7581.197044</td>\n",
       "      <td>11292.024631</td>\n",
       "      <td>31.039409</td>\n",
       "      <td>2.931034</td>\n",
       "      <td>6.088670</td>\n",
       "      <td>1.315271</td>\n",
       "      <td>7.231527</td>\n",
       "      <td>0.137931</td>\n",
       "      <td>4.285714</td>\n",
       "      <td>6.847291</td>\n",
       "      <td>2.201970</td>\n",
       "      <td>203</td>\n",
       "    </tr>\n",
       "  </tbody>\n",
       "</table>\n",
       "</div>"
      ],
      "text/plain": [
       "  zipcode    Unnamed: 0            id          price  bedrooms  bathrooms  \\\n",
       "0   98001  11591.154891  4.645665e+09  279582.603261  3.366848   2.004755   \n",
       "1   98002  11487.246305  4.769607e+09  234165.137931  3.349754   1.842365   \n",
       "\n",
       "   sqft_living      sqft_lot    floors  waterfront      view  condition  \\\n",
       "0  1892.201087  14939.116848  1.425272         0.0  0.100543   3.347826   \n",
       "1  1628.379310   7533.906404  1.337438         0.0  0.009852   3.729064   \n",
       "\n",
       "      grade   sqft_above  sqft_basement     yr_built  yr_renovated        lat  \\\n",
       "0  7.296196  1715.597826     176.603261  1980.331522     43.086957  47.309010   \n",
       "1  6.689655  1525.246305     103.133005  1967.926108     58.709360  47.308759   \n",
       "\n",
       "         long  sqft_living15    sqft_lot15  Unnamed: 0.1  number of crimes  \\\n",
       "0 -122.270777    1824.635870  11250.543478  11394.796196        585.524457   \n",
       "1 -122.213429    1480.133005   7581.197044  11292.024631         31.039409   \n",
       "\n",
       "     Assault  Breaking & Entering      Drugs  Property Crime   Robbery  \\\n",
       "0  41.173913           150.592391  11.309783      135.146739  6.790761   \n",
       "1   2.931034             6.088670   1.315271        7.231527  0.137931   \n",
       "\n",
       "       Theft  Theft from Vehicle  Theft of Vehicle  count  \n",
       "0  80.179348          112.105978         48.225543    368  \n",
       "1   4.285714            6.847291          2.201970    203  "
      ]
     },
     "execution_count": 4,
     "metadata": {},
     "output_type": "execute_result"
    }
   ],
   "source": [
    "zipcode_data = data.groupby('zipcode').mean()\n",
    "zipcode_data['count'] = data.groupby('zipcode').count()['id']\n",
    "zipcode_data.reset_index(inplace=True)\n",
    "zipcode_data.head(2)"
   ]
  },
  {
   "cell_type": "code",
   "execution_count": 6,
   "metadata": {
    "collapsed": false,
    "scrolled": true
   },
   "outputs": [
    {
     "data": {
      "image/png": "[encoded data removed]",
      "text/plain": [
       "<matplotlib.figure.Figure at 0x21754aa88d0>"
      ]
     },
     "metadata": {},
     "output_type": "display_data"
    },
    {
     "data": {
      "image/png": "[encoded data removed]",
      "text/plain": [
       "<matplotlib.figure.Figure at 0x217551f5940>"
      ]
     },
     "metadata": {},
     "output_type": "display_data"
    },
    {
     "data": {
      "image/png": "[encoded data removed]",
      "text/plain": [
       "<matplotlib.figure.Figure at 0x21753be4908>"
      ]
     },
     "metadata": {},
     "output_type": "display_data"
    },
    {
     "data": {
      "image/png": "[encoded data removed]",
      "text/plain": [
       "<matplotlib.figure.Figure at 0x217562c0080>"
      ]
     },
     "metadata": {},
     "output_type": "display_data"
    },
    {
     "data": {
      "image/png": "[encoded data removed]",
      "text/plain": [
       "<matplotlib.figure.Figure at 0x2175633e710>"
      ]
     },
     "metadata": {},
     "output_type": "display_data"
    },
    {
     "data": {
      "image/png": "[encoded data removed]",
      "text/plain": [
       "<matplotlib.figure.Figure at 0x217565fb5f8>"
      ]
     },
     "metadata": {},
     "output_type": "display_data"
    },
    {
     "data": {
      "image/png": "[encoded data removed]",
      "text/plain": [
       "<matplotlib.figure.Figure at 0x217566699b0>"
      ]
     },
     "metadata": {},
     "output_type": "display_data"
    },
    {
     "data": {
      "image/png": "[encoded data removed]",
      "text/plain": [
       "<matplotlib.figure.Figure at 0x2175667bef0>"
      ]
     },
     "metadata": {},
     "output_type": "display_data"
    },
    {
     "data": {
      "image/png": "[encoded data removed]",
      "text/plain": [
       "<matplotlib.figure.Figure at 0x217567550f0>"
      ]
     },
     "metadata": {},
     "output_type": "display_data"
    },
    {
     "data": {
      "image/png": "[encoded data removed]",
      "text/plain": [
       "<matplotlib.figure.Figure at 0x217567c37b8>"
      ]
     },
     "metadata": {},
     "output_type": "display_data"
    }
   ],
   "source": [
    "# Generate base map layer\n",
    "geo_path = '../Data/zipcode_king_county.geojson'\n",
    "Map = folium.Map(location=[data['lat'].mean(), data['long'].mean()], zoom_start=11, API_key='zipcode')\n",
    "# Generate marker map layer\n",
    "MAX_SHOW =10\n",
    "marker_cluster = folium.MarkerCluster(name = 'House Cluster').add_to(Map)\n",
    "for iters, row in data[0:MAX_SHOW].iterrows():\n",
    "    folium.Marker([row[\"lat\"], row[\"long\"]], \n",
    "            popup=hc.popup_text(iters, row)).add_to(marker_cluster)\n",
    "\n",
    "# Generate zipcode vs. house price layer\n",
    "Map.choropleth(geo_path=geo_path, data=zipcode_data, \n",
    "                       columns = ['zipcode', 'price'], key_on = 'feature.properties.ZCTA5CE10',\n",
    "                     fill_color='OrRd', fill_opacity=0.6, line_opacity=0.2, \n",
    "                   legend_name='House Price', name = 'Zipcode vs. House Price', highlight=True)    \n",
    "\n",
    "# Generate Crime heatmap\n",
    "Map.add_children(\n",
    "            plugins.HeatMap([[row[\"latitude\"], row[\"longitude\"]] \n",
    "                             for iters, row in crime_data.iterrows()], \n",
    "                            name='Crime Incidence', min_opacity=0.5, max_zoom=18, radius = 11))\n",
    "    \n",
    "\n",
    "\n",
    "folium.LayerControl().add_to(Map)\n",
    "Map.save('Map.html')"
   ]
  },
  {
   "cell_type": "code",
   "execution_count": 6,
   "metadata": {
    "collapsed": false
   },
   "outputs": [],
   "source": []
  },
  {
   "cell_type": "code",
   "execution_count": null,
   "metadata": {
    "collapsed": true
   },
   "outputs": [],
   "source": []
  }
 ],
 "metadata": {
  "anaconda-cloud": {},
  "kernelspec": {
   "display_name": "Python [default]",
   "language": "python",
   "name": "python3"
  },
  "language_info": {
   "codemirror_mode": {
    "name": "ipython",
    "version": 3
   },
   "file_extension": ".py",
   "mimetype": "text/x-python",
   "name": "python",
   "nbconvert_exporter": "python",
   "pygments_lexer": "ipython3",
   "version": "3.5.2"
  }
 },
 "nbformat": 4,
 "nbformat_minor": 1
}
